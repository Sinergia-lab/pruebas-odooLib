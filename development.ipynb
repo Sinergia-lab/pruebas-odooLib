{
 "cells": [
  {
   "cell_type": "code",
   "execution_count": 1,
   "metadata": {},
   "outputs": [],
   "source": [
    "from OddoDownload import OdooDownloadBase,OdooDownloadCenco,OdooDownloadCorona,OdooDownloadTottus,OdooDownloadDimerc,OdooDownloadIansa,OdooDownloadLuccetti\n",
    "import pandas as pd\n",
    "import numpy as np\n",
    "from tqdm import tqdm"
   ]
  },
  {
   "cell_type": "code",
   "execution_count": 28,
   "metadata": {},
   "outputs": [],
   "source": [
    "conn_params_cenco = {\n",
    "    'ODOO_USERNAME' : 'acceso@asalvo.cl',\n",
    "    'ODOO_PASSWORD' : '1234',\n",
    "    'ODOO_HOSTNAME' : 'sinergia-lab-cencorep-ambiente-test-9601418.dev.odoo.com',\n",
    "    'ODOO_DATABASE' : 'sinergia-lab-cencorep-ambiente-test-9601418'\n",
    "}\n",
    "\n",
    "conn_params_corona = {\n",
    "    'ODOO_USERNAME' : 'andres.romo@sinergiaindustrias.cl',\n",
    "    'ODOO_PASSWORD' : 'clavefalsa',\n",
    "    'ODOO_HOSTNAME' : 'repcorona-test.odoo.com',\n",
    "    'ODOO_DATABASE' : 'repcorona-test'\n",
    "}\n",
    "\n",
    "conn_params_tottus = {\n",
    "    'ODOO_USERNAME' : 'andres.romo@sinergiaindustrias.cl',\n",
    "    'ODOO_PASSWORD' : 'clavefalsa',\n",
    "    'ODOO_HOSTNAME' : 'rep-tottus-test.odoo.com',\n",
    "    'ODOO_DATABASE' : 'rep-tottus-test'\n",
    "}\n",
    "\n",
    "conn_params_dimerc = {\n",
    "    'ODOO_USERNAME' : 'andres.romo@sinergiaindustrias.cl',\n",
    "    'ODOO_PASSWORD' : 'clavefalsa',\n",
    "    'ODOO_HOSTNAME' : 'rep-dimerc-test.odoo.com',\n",
    "    'ODOO_DATABASE' : 'rep-dimerc-test'\n",
    "}\n",
    "\n",
    "conn_params_iansa = {\n",
    "    'ODOO_USERNAME' : 'andres.romo@sinergiaindustrias.cl',\n",
    "    'ODOO_PASSWORD' : 'clavefalsa',\n",
    "    'ODOO_HOSTNAME' : 'rep-iansa-test.odoo.com',\n",
    "    'ODOO_DATABASE' : 'rep-iansa-test'\n",
    "}\n",
    "\n",
    "conn_params_luccetti = {\n",
    "    'ODOO_USERNAME' : 'andres.romo@sinergiaindustrias.cl',\n",
    "    'ODOO_PASSWORD' : 'clavefalsa',\n",
    "    'ODOO_HOSTNAME' : 'sinergia-lab-tmluc-tmluctestdescarga-9848792.dev.odoo.com',\n",
    "    'ODOO_DATABASE' : 'sinergia-lab-tmluc-tmluctestdescarga-9848792'\n",
    "}\n",
    "\n",
    "odoo_cenco = OdooDownloadCenco(conn_params_cenco)\n",
    "odoo_corona = OdooDownloadCorona(conn_params_corona)\n",
    "odoo_tottus = OdooDownloadTottus(conn_params_tottus)\n",
    "odoo_dimerc = OdooDownloadDimerc(conn_params_dimerc)\n",
    "odoo_iansa = OdooDownloadIansa(conn_params_iansa)\n",
    "odoo_luccetti = OdooDownloadLuccetti(conn_params_luccetti)"
   ]
  },
  {
   "cell_type": "code",
   "execution_count": 25,
   "metadata": {},
   "outputs": [
    {
     "name": "stdout",
     "output_type": "stream",
     "text": [
      "Descargando data desde x_productos\n",
      ".\n",
      "done\n"
     ]
    }
   ],
   "source": [
    "periodo = 2023\n",
    "\n",
    "# =========================\n",
    "# DESCARGAR TABLA DE VENTAS\n",
    "# =========================\n",
    "\n",
    "modelo = 'x_unidades_vendidas'\n",
    "filtros = [('x_studio_periodo.x_name','=',periodo)]\n",
    "campos = ['x_studio_producto','x_studio_unidades_vendidas','x_studio_todos_los_elementos']\n",
    "header = ['Producto','Unidades vendidas','lista elementos'] \n",
    "campos_fk = ['x_studio_producto']\n",
    "\n",
    "un_vendidas = odoo_luccetti.getDataFromModel(modelo,filtros,campos,header,campos_fk=campos_fk,ret_=True)\n",
    " "
   ]
  }
 ],
 "metadata": {
  "kernelspec": {
   "display_name": ".venv",
   "language": "python",
   "name": "python3"
  },
  "language_info": {
   "codemirror_mode": {
    "name": "ipython",
    "version": 3
   },
   "file_extension": ".py",
   "mimetype": "text/x-python",
   "name": "python",
   "nbconvert_exporter": "python",
   "pygments_lexer": "ipython3",
   "version": "3.11.4"
  },
  "orig_nbformat": 4
 },
 "nbformat": 4,
 "nbformat_minor": 2
}
