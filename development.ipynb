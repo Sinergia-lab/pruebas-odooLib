{
 "cells": [
  {
   "cell_type": "code",
   "execution_count": 97,
   "metadata": {},
   "outputs": [],
   "source": [
    "from OddoDownload import OdooDownloadBase,OdooDownloadCenco,OdooDownloadCorona,OdooDownloadTottus,OdooDownloadDimerc,OdooDownloadIansa,OdooDownloadLuccetti\n",
    "import pandas as pd\n",
    "import numpy as np\n",
    "from tqdm import tqdm"
   ]
  },
  {
   "cell_type": "code",
   "execution_count": 98,
   "metadata": {},
   "outputs": [],
   "source": [
    "conn_params_cenco = {\n",
    "    'ODOO_USERNAME' : 'acceso@asalvo.cl',\n",
    "    'ODOO_PASSWORD' : '1234',\n",
    "    'ODOO_HOSTNAME' : 'sinergia-lab-cencorep-ambiente-test-9601418.dev.odoo.com',\n",
    "    'ODOO_DATABASE' : 'sinergia-lab-cencorep-ambiente-test-9601418'\n",
    "}\n",
    "\n",
    "conn_params_corona = {\n",
    "    'ODOO_USERNAME' : 'andres.romo@sinergiaindustrias.cl',\n",
    "    'ODOO_PASSWORD' : 'clavefalsa',\n",
    "    'ODOO_HOSTNAME' : 'repcorona-test.odoo.com',\n",
    "    'ODOO_DATABASE' : 'repcorona-test'\n",
    "}\n",
    "\n",
    "conn_params_tottus = {\n",
    "    'ODOO_USERNAME' : 'andres.romo@sinergiaindustrias.cl',\n",
    "    'ODOO_PASSWORD' : 'clavefalsa',\n",
    "    'ODOO_HOSTNAME' : 'rep-tottus-test.odoo.com',\n",
    "    'ODOO_DATABASE' : 'rep-tottus-test'\n",
    "}\n",
    "\n",
    "conn_params_dimerc = {\n",
    "    'ODOO_USERNAME' : 'andres.romo@sinergiaindustrias.cl',\n",
    "    'ODOO_PASSWORD' : 'clavefalsa',\n",
    "    'ODOO_HOSTNAME' : 'rep-dimerc-test.odoo.com',\n",
    "    'ODOO_DATABASE' : 'rep-dimerc-test'\n",
    "}\n",
    "\n",
    "conn_params_iansa = {\n",
    "    'ODOO_USERNAME' : 'andres.romo@sinergiaindustrias.cl',\n",
    "    'ODOO_PASSWORD' : 'clavefalsa',\n",
    "    'ODOO_HOSTNAME' : 'rep-iansa-test.odoo.com',\n",
    "    'ODOO_DATABASE' : 'rep-iansa-test'\n",
    "}\n",
    "\n",
    "conn_params_luccetti = {\n",
    "    'ODOO_USERNAME' : 'andres.romo@sinergiaindustrias.cl',\n",
    "    'ODOO_PASSWORD' : 'clavefalsa',\n",
    "    'ODOO_HOSTNAME' : 'sinergia-lab-tmluc-tmluctestdescarga-9848792.dev.odoo.com',\n",
    "    'ODOO_DATABASE' : 'sinergia-lab-tmluc-tmluctestdescarga-9848792'\n",
    "}\n",
    "\n",
    "odoo_cenco = OdooDownloadCenco(conn_params_cenco)\n",
    "odoo_corona = OdooDownloadCorona(conn_params_corona)\n",
    "odoo_tottus = OdooDownloadTottus(conn_params_tottus)\n",
    "odoo_dimerc = OdooDownloadDimerc(conn_params_dimerc)\n",
    "odoo_iansa = OdooDownloadIansa(conn_params_iansa)\n",
    "odoo_luccetti = OdooDownloadLuccetti(conn_params_luccetti)"
   ]
  },
  {
   "cell_type": "code",
   "execution_count": 73,
   "metadata": {},
   "outputs": [],
   "source": [
    "partes_eye = pd.read_excel('archivos_generados/Declaracion_eye Cenco-TXD.xlsx')"
   ]
  },
  {
   "cell_type": "code",
   "execution_count": 100,
   "metadata": {},
   "outputs": [
    {
     "name": "stdout",
     "output_type": "stream",
     "text": [
      "================================================================\n",
      "Hay plasticos que no son flexibles ni rigidos\n",
      "Los registros con problemas se guardaran en el archivo logs.xlsx\n",
      "================================================================\n",
      "Generando archivo\n",
      "Se ha generado el archivo logs.xlsx\n"
     ]
    }
   ],
   "source": [
    "col_categoria_material = 'Categoría material'\n",
    "col_caracteristica = 'caracterítica del material (solo para plásticos, cartón y vidrio)'\n",
    "\n",
    "plasticos = partes_eye[partes_eye[col_categoria_material]=='PLÁSTICOS']\n",
    "plasticos_warning = plasticos[ (plasticos[col_caracteristica]!='Flexible') & (plasticos[col_caracteristica]!='Rígido') ]\n",
    "plasticos_warning = plasticos_warning[ (plasticos_warning['Material']!='Otros envases PET (1)') & (plasticos_warning['Material']!='Plástico compostable') ]\n",
    "if len(plasticos_warning):\n",
    "    print('================================================================')\n",
    "    print('Hay plasticos que no son flexibles ni rigidos')\n",
    "    print('Los registros con problemas se guardaran en el archivo logs.xlsx')\n",
    "    print('================================================================')\n",
    "\n",
    "odoo_luccetti.resultadoBusqueda = plasticos_warning\n",
    "odoo_luccetti.downloadExcel('logs',None,'xlsx')"
   ]
  },
  {
   "cell_type": "code",
   "execution_count": 93,
   "metadata": {},
   "outputs": [
    {
     "data": {
      "text/plain": [
       "Material\n",
       "Envases de PP que NO contienen sustancias con grasa (5)      277\n",
       "Envases de PS que NO contienen sustancias con grasa (6)      155\n",
       "Otros envases plásticos (7)                                  118\n",
       "Envases de PEBD que NO contienen sustancias con grasa (4)     54\n",
       "PVC (3)                                                       28\n",
       "Envases de PEAD que NO contienen sustancias con grasa (2)      2\n",
       "Name: count, dtype: int64"
      ]
     },
     "execution_count": 93,
     "metadata": {},
     "output_type": "execute_result"
    }
   ],
   "source": [
    "plasticos_warning['Material'].value_counts()"
   ]
  }
 ],
 "metadata": {
  "kernelspec": {
   "display_name": ".venv",
   "language": "python",
   "name": "python3"
  },
  "language_info": {
   "codemirror_mode": {
    "name": "ipython",
    "version": 3
   },
   "file_extension": ".py",
   "mimetype": "text/x-python",
   "name": "python",
   "nbconvert_exporter": "python",
   "pygments_lexer": "ipython3",
   "version": "3.10.5"
  },
  "orig_nbformat": 4
 },
 "nbformat": 4,
 "nbformat_minor": 2
}
