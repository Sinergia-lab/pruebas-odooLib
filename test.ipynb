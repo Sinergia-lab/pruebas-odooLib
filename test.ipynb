{
 "cells": [
  {
   "cell_type": "code",
   "execution_count": 1,
   "metadata": {},
   "outputs": [],
   "source": [
    "from OddoDownload import OdooDownloadCenco,OdooDownloadCorona\n",
    "import pandas as pd\n",
    "import numpy as np\n",
    "from tqdm import tqdm"
   ]
  },
  {
   "cell_type": "code",
   "execution_count": 6,
   "metadata": {},
   "outputs": [],
   "source": [
    "conn_params_cenco = {\n",
    "    'ODOO_USERNAME' : 'acceso@asalvo.cl',\n",
    "    'ODOO_PASSWORD' : '1234',\n",
    "    'ODOO_HOSTNAME' : 'sinergia-lab-cencorep-ambiente-test-9601418.dev.odoo.com',\n",
    "    'ODOO_DATABASE' : 'sinergia-lab-cencorep-ambiente-test-9601418'\n",
    "}\n",
    "\n",
    "conn_params_corona = {\n",
    "    'ODOO_USERNAME' : 'andres.romo@sinergiaindustrias.cl',\n",
    "    'ODOO_PASSWORD' : 'clavefalsa',\n",
    "    'ODOO_HOSTNAME' : 'repcorona-test.odoo.com',\n",
    "    'ODOO_DATABASE' : 'repcorona-test'\n",
    "}\n",
    "\n",
    "odoo_cenco = OdooDownloadCenco(conn_params_cenco)\n",
    "odoo_corona = OdooDownloadCorona(conn_params_corona)"
   ]
  },
  {
   "cell_type": "code",
   "execution_count": 17,
   "metadata": {},
   "outputs": [
    {
     "data": {
      "text/html": [
       "<div>\n",
       "<style scoped>\n",
       "    .dataframe tbody tr th:only-of-type {\n",
       "        vertical-align: middle;\n",
       "    }\n",
       "\n",
       "    .dataframe tbody tr th {\n",
       "        vertical-align: top;\n",
       "    }\n",
       "\n",
       "    .dataframe thead th {\n",
       "        text-align: right;\n",
       "    }\n",
       "</style>\n",
       "<table border=\"1\" class=\"dataframe\">\n",
       "  <thead>\n",
       "    <tr style=\"text-align: right;\">\n",
       "      <th></th>\n",
       "      <th>Name</th>\n",
       "      <th>Etapa</th>\n",
       "    </tr>\n",
       "  </thead>\n",
       "  <tbody>\n",
       "  </tbody>\n",
       "</table>\n",
       "</div>"
      ],
      "text/plain": [
       "Empty DataFrame\n",
       "Columns: [Name, Etapa]\n",
       "Index: []"
      ]
     },
     "execution_count": 17,
     "metadata": {},
     "output_type": "execute_result"
    }
   ],
   "source": [
    "df = odoo_corona.resultadoBusqueda\n",
    "df[df['Etapa']=='False']"
   ]
  }
 ],
 "metadata": {
  "kernelspec": {
   "display_name": ".venv",
   "language": "python",
   "name": "python3"
  },
  "language_info": {
   "codemirror_mode": {
    "name": "ipython",
    "version": 3
   },
   "file_extension": ".py",
   "mimetype": "text/x-python",
   "name": "python",
   "nbconvert_exporter": "python",
   "pygments_lexer": "ipython3",
   "version": "3.11.4"
  },
  "orig_nbformat": 4
 },
 "nbformat": 4,
 "nbformat_minor": 2
}
