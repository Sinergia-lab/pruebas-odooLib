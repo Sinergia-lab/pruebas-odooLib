{
 "cells": [
  {
   "cell_type": "code",
   "execution_count": 1,
   "metadata": {},
   "outputs": [],
   "source": [
    "from OddoDownload import OddoDownload\n",
    "import pandas as pd\n",
    "import numpy as np"
   ]
  },
  {
   "cell_type": "code",
   "execution_count": 2,
   "metadata": {},
   "outputs": [],
   "source": [
    "conn_params = {\n",
    "    'ODOO_USERNAME' : 'acceso@asalvo.cl',\n",
    "    'ODOO_PASSWORD' : '1234',\n",
    "    'ODOO_HOSTNAME' : 'sinergia-lab-cencorep-ambiente-test-9601418.dev.odoo.com',\n",
    "    'ODOO_DATABASE' : 'sinergia-lab-cencorep-ambiente-test-9601418'\n",
    "}\n",
    "odoo = OddoDownload(conn_params)"
   ]
  },
  {
   "cell_type": "code",
   "execution_count": 3,
   "metadata": {},
   "outputs": [],
   "source": [
    "modelo = 'x_productos'\n",
    "filtros = ['|',('x_studio_mat','=','CARTÓN'),('x_name','=','CAJA')]\n",
    "campos = ['x_studio_periodos']\n",
    "\n",
    "# odoo.getDataFromModel(modelo,filtros,campos)\n",
    "# odoo.downloadExcel('f2',formato='csv'"
   ]
  },
  {
   "cell_type": "code",
   "execution_count": 15,
   "metadata": {},
   "outputs": [
    {
     "name": "stdout",
     "output_type": "stream",
     "text": [
      "Descargando data\n",
      ".\n",
      "done\n",
      "Generando archivo\n",
      "Descargando data\n",
      ".\n",
      "done\n",
      "Generando archivo\n",
      "Descargando data\n",
      ".\n",
      "done\n",
      "Generando archivo\n",
      "Descargando data\n",
      ".\n",
      "done\n"
     ]
    }
   ],
   "source": [
    "odoo.comunicacion_smk(2023)"
   ]
  },
  {
   "cell_type": "code",
   "execution_count": 5,
   "metadata": {},
   "outputs": [
    {
     "data": {
      "text/plain": [
       "(21558, 10)"
      ]
     },
     "execution_count": 5,
     "metadata": {},
     "output_type": "execute_result"
    }
   ],
   "source": [
    "test = pd.read_csv('Comunicacion masiva.csv')\n",
    "test.shape"
   ]
  },
  {
   "cell_type": "code",
   "execution_count": 10,
   "metadata": {},
   "outputs": [
    {
     "name": "stdout",
     "output_type": "stream",
     "text": [
      "0\n"
     ]
    }
   ],
   "source": [
    "chano = pd.read_excel('x_productos_7.xlsx')\n",
    "chano.shape\n",
    "\n",
    "no_existe = 0\n",
    "for row in range(len(chano)):\n",
    "    desc = chano.iloc[row]['Descripción']\n",
    "    exists = test[test['Descripcion']==desc].shape[0]\n",
    "    if not exists:\n",
    "        no_existe += 1\n",
    "        print(chano.iloc[row]['Etapa'])\n",
    "print(no_existe)"
   ]
  },
  {
   "cell_type": "code",
   "execution_count": 12,
   "metadata": {},
   "outputs": [
    {
     "name": "stdout",
     "output_type": "stream",
     "text": [
      "21558\n",
      "21558\n"
     ]
    }
   ],
   "source": [
    "chano1 = pd.read_excel('x_productos_5.xlsx')\n",
    "chano2 = pd.read_excel('x_productos_6.xlsx')\n",
    "chano3 = pd.read_excel('x_productos_7.xlsx')\n",
    "\n",
    "print(len(chano1)+len(chano2)+len(chano3))\n",
    "print(len(test))\n"
   ]
  },
  {
   "cell_type": "code",
   "execution_count": 13,
   "metadata": {},
   "outputs": [
    {
     "data": {
      "text/html": [
       "<div>\n",
       "<style scoped>\n",
       "    .dataframe tbody tr th:only-of-type {\n",
       "        vertical-align: middle;\n",
       "    }\n",
       "\n",
       "    .dataframe tbody tr th {\n",
       "        vertical-align: top;\n",
       "    }\n",
       "\n",
       "    .dataframe thead th {\n",
       "        text-align: right;\n",
       "    }\n",
       "</style>\n",
       "<table border=\"1\" class=\"dataframe\">\n",
       "  <thead>\n",
       "    <tr style=\"text-align: right;\">\n",
       "      <th></th>\n",
       "      <th>SKU Unidad de negocio</th>\n",
       "      <th>Código regional</th>\n",
       "      <th>Descripción</th>\n",
       "      <th>EAN</th>\n",
       "      <th>Proveedor</th>\n",
       "      <th>Equipo</th>\n",
       "      <th>PM asociado</th>\n",
       "      <th>PM asociado/Correo electrónico</th>\n",
       "      <th>Trazabilidad levantamiento</th>\n",
       "      <th>Etapa</th>\n",
       "    </tr>\n",
       "  </thead>\n",
       "  <tbody>\n",
       "    <tr>\n",
       "      <th>0</th>\n",
       "      <td>1746257</td>\n",
       "      <td>NaN</td>\n",
       "      <td>BEBIDA MANZANA C/GAS GEROLSTEINER 750ML</td>\n",
       "      <td>4001513004857</td>\n",
       "      <td>GEROLSTEINER BRUNNEN GMBH &amp; CO. KG</td>\n",
       "      <td>FOOD IMPORTADOS</td>\n",
       "      <td>Magdalena Benavente</td>\n",
       "      <td>magdalena.benavente@cencosud.cl</td>\n",
       "      <td>FOOD IMPORTADOS/GEROLSTEINER BRUNNEN GMBH &amp; CO...</td>\n",
       "      <td>Proyectado</td>\n",
       "    </tr>\n",
       "    <tr>\n",
       "      <th>1</th>\n",
       "      <td>272322</td>\n",
       "      <td>NaN</td>\n",
       "      <td>SALSA PARA CARNE (GRAVY) MCCORMICK 24G</td>\n",
       "      <td>52100098609</td>\n",
       "      <td>MCCORMICK DE COLOMBIA SAS</td>\n",
       "      <td>FOOD IMPORTADOS</td>\n",
       "      <td>Magdalena Benavente</td>\n",
       "      <td>magdalena.benavente@cencosud.cl</td>\n",
       "      <td>FOOD IMPORTADOS/MCCORMICK DE COLOMBIA SAS</td>\n",
       "      <td>Proyectado</td>\n",
       "    </tr>\n",
       "    <tr>\n",
       "      <th>2</th>\n",
       "      <td>1699642</td>\n",
       "      <td>NaN</td>\n",
       "      <td>CHOCOLATE CON COCO CHOCOFUN 175G</td>\n",
       "      <td>4000415358501</td>\n",
       "      <td>LUDWIG SCHOKOLADE GMBH</td>\n",
       "      <td>FOOD IMPORTADOS</td>\n",
       "      <td>Adriana Hernández</td>\n",
       "      <td>adriana.hernandez@cencosud.cl</td>\n",
       "      <td>FOOD IMPORTADOS/LUDWIG SCHOKOLADE GMBH</td>\n",
       "      <td>Proyectado</td>\n",
       "    </tr>\n",
       "    <tr>\n",
       "      <th>3</th>\n",
       "      <td>1839882</td>\n",
       "      <td>NaN</td>\n",
       "      <td>MUÑEQUITAS DISNEY</td>\n",
       "      <td>2090001416342</td>\n",
       "      <td>JAKKS PACIFIC (HK) LIMITED</td>\n",
       "      <td>NON FOOD HARD</td>\n",
       "      <td>María José Collado</td>\n",
       "      <td>mariajose.collado@cencosud.cl</td>\n",
       "      <td>NON FOOD HARD/JAKKS PACIFIC (HK) LIMITED</td>\n",
       "      <td>Proyectado</td>\n",
       "    </tr>\n",
       "    <tr>\n",
       "      <th>4</th>\n",
       "      <td>1733521</td>\n",
       "      <td>NaN</td>\n",
       "      <td>DISNEY MINI PRINCESA</td>\n",
       "      <td>2090001311289</td>\n",
       "      <td>JAKKS PACIFIC (HK) LIMITED</td>\n",
       "      <td>NON FOOD HARD</td>\n",
       "      <td>María José Collado</td>\n",
       "      <td>mariajose.collado@cencosud.cl</td>\n",
       "      <td>NON FOOD HARD/JAKKS PACIFIC (HK) LIMITED</td>\n",
       "      <td>Proyectado</td>\n",
       "    </tr>\n",
       "  </tbody>\n",
       "</table>\n",
       "</div>"
      ],
      "text/plain": [
       "   SKU Unidad de negocio Código regional  \\\n",
       "0                1746257             NaN   \n",
       "1                 272322             NaN   \n",
       "2                1699642             NaN   \n",
       "3                1839882             NaN   \n",
       "4                1733521             NaN   \n",
       "\n",
       "                               Descripción            EAN  \\\n",
       "0  BEBIDA MANZANA C/GAS GEROLSTEINER 750ML  4001513004857   \n",
       "1   SALSA PARA CARNE (GRAVY) MCCORMICK 24G    52100098609   \n",
       "2         CHOCOLATE CON COCO CHOCOFUN 175G  4000415358501   \n",
       "3                        MUÑEQUITAS DISNEY  2090001416342   \n",
       "4                     DISNEY MINI PRINCESA  2090001311289   \n",
       "\n",
       "                            Proveedor           Equipo          PM asociado  \\\n",
       "0  GEROLSTEINER BRUNNEN GMBH & CO. KG  FOOD IMPORTADOS  Magdalena Benavente   \n",
       "1           MCCORMICK DE COLOMBIA SAS  FOOD IMPORTADOS  Magdalena Benavente   \n",
       "2              LUDWIG SCHOKOLADE GMBH  FOOD IMPORTADOS    Adriana Hernández   \n",
       "3          JAKKS PACIFIC (HK) LIMITED    NON FOOD HARD   María José Collado   \n",
       "4          JAKKS PACIFIC (HK) LIMITED    NON FOOD HARD   María José Collado   \n",
       "\n",
       "    PM asociado/Correo electrónico  \\\n",
       "0  magdalena.benavente@cencosud.cl   \n",
       "1  magdalena.benavente@cencosud.cl   \n",
       "2    adriana.hernandez@cencosud.cl   \n",
       "3    mariajose.collado@cencosud.cl   \n",
       "4    mariajose.collado@cencosud.cl   \n",
       "\n",
       "                          Trazabilidad levantamiento       Etapa  \n",
       "0  FOOD IMPORTADOS/GEROLSTEINER BRUNNEN GMBH & CO...  Proyectado  \n",
       "1          FOOD IMPORTADOS/MCCORMICK DE COLOMBIA SAS  Proyectado  \n",
       "2             FOOD IMPORTADOS/LUDWIG SCHOKOLADE GMBH  Proyectado  \n",
       "3           NON FOOD HARD/JAKKS PACIFIC (HK) LIMITED  Proyectado  \n",
       "4           NON FOOD HARD/JAKKS PACIFIC (HK) LIMITED  Proyectado  "
      ]
     },
     "execution_count": 13,
     "metadata": {},
     "output_type": "execute_result"
    }
   ],
   "source": [
    "chano1.head()"
   ]
  },
  {
   "cell_type": "code",
   "execution_count": 14,
   "metadata": {},
   "outputs": [
    {
     "data": {
      "text/html": [
       "<div>\n",
       "<style scoped>\n",
       "    .dataframe tbody tr th:only-of-type {\n",
       "        vertical-align: middle;\n",
       "    }\n",
       "\n",
       "    .dataframe tbody tr th {\n",
       "        vertical-align: top;\n",
       "    }\n",
       "\n",
       "    .dataframe thead th {\n",
       "        text-align: right;\n",
       "    }\n",
       "</style>\n",
       "<table border=\"1\" class=\"dataframe\">\n",
       "  <thead>\n",
       "    <tr style=\"text-align: right;\">\n",
       "      <th></th>\n",
       "      <th>SKU unidad negocio</th>\n",
       "      <th>Codigo regional</th>\n",
       "      <th>Descripcion</th>\n",
       "      <th>EAN</th>\n",
       "      <th>Proveedor</th>\n",
       "      <th>Equipo</th>\n",
       "      <th>PM asociado</th>\n",
       "      <th>PM asociado/Correo electrónico</th>\n",
       "      <th>Trazabilidad levantamiento</th>\n",
       "      <th>Etapa</th>\n",
       "    </tr>\n",
       "  </thead>\n",
       "  <tbody>\n",
       "    <tr>\n",
       "      <th>0</th>\n",
       "      <td>1746257</td>\n",
       "      <td>False</td>\n",
       "      <td>BEBIDA MANZANA C/GAS GEROLSTEINER 750ML</td>\n",
       "      <td>4001513004857</td>\n",
       "      <td>GEROLSTEINER BRUNNEN GMBH &amp; CO. KG</td>\n",
       "      <td>FOOD IMPORTADOS</td>\n",
       "      <td>Magdalena Benavente</td>\n",
       "      <td>magdalena.benavente@cencosud.cl</td>\n",
       "      <td>FOOD IMPORTADOS/GEROLSTEINER BRUNNEN GMBH &amp; CO...</td>\n",
       "      <td>Proyectado</td>\n",
       "    </tr>\n",
       "    <tr>\n",
       "      <th>1</th>\n",
       "      <td>272322</td>\n",
       "      <td>False</td>\n",
       "      <td>SALSA PARA CARNE (GRAVY) MCCORMICK 24G</td>\n",
       "      <td>52100098609</td>\n",
       "      <td>MCCORMICK DE COLOMBIA SAS</td>\n",
       "      <td>FOOD IMPORTADOS</td>\n",
       "      <td>Magdalena Benavente</td>\n",
       "      <td>magdalena.benavente@cencosud.cl</td>\n",
       "      <td>FOOD IMPORTADOS/MCCORMICK DE COLOMBIA SAS</td>\n",
       "      <td>Proyectado</td>\n",
       "    </tr>\n",
       "    <tr>\n",
       "      <th>2</th>\n",
       "      <td>1699642</td>\n",
       "      <td>False</td>\n",
       "      <td>CHOCOLATE CON COCO CHOCOFUN 175G</td>\n",
       "      <td>4000415358501</td>\n",
       "      <td>LUDWIG SCHOKOLADE GMBH</td>\n",
       "      <td>FOOD IMPORTADOS</td>\n",
       "      <td>Adriana Hernández</td>\n",
       "      <td>adriana.hernandez@cencosud.cl</td>\n",
       "      <td>FOOD IMPORTADOS/LUDWIG SCHOKOLADE GMBH</td>\n",
       "      <td>Proyectado</td>\n",
       "    </tr>\n",
       "    <tr>\n",
       "      <th>3</th>\n",
       "      <td>1839882</td>\n",
       "      <td>False</td>\n",
       "      <td>MUÑEQUITAS DISNEY</td>\n",
       "      <td>2090001416342</td>\n",
       "      <td>JAKKS PACIFIC (HK) LIMITED</td>\n",
       "      <td>NON FOOD HARD</td>\n",
       "      <td>María José Collado</td>\n",
       "      <td>mariajose.collado@cencosud.cl</td>\n",
       "      <td>NON FOOD HARD/JAKKS PACIFIC (HK) LIMITED</td>\n",
       "      <td>Proyectado</td>\n",
       "    </tr>\n",
       "    <tr>\n",
       "      <th>4</th>\n",
       "      <td>1733521</td>\n",
       "      <td>False</td>\n",
       "      <td>DISNEY MINI PRINCESA</td>\n",
       "      <td>2090001311289</td>\n",
       "      <td>JAKKS PACIFIC (HK) LIMITED</td>\n",
       "      <td>NON FOOD HARD</td>\n",
       "      <td>María José Collado</td>\n",
       "      <td>mariajose.collado@cencosud.cl</td>\n",
       "      <td>NON FOOD HARD/JAKKS PACIFIC (HK) LIMITED</td>\n",
       "      <td>Proyectado</td>\n",
       "    </tr>\n",
       "  </tbody>\n",
       "</table>\n",
       "</div>"
      ],
      "text/plain": [
       "  SKU unidad negocio Codigo regional                              Descripcion  \\\n",
       "0            1746257           False  BEBIDA MANZANA C/GAS GEROLSTEINER 750ML   \n",
       "1             272322           False   SALSA PARA CARNE (GRAVY) MCCORMICK 24G   \n",
       "2            1699642           False         CHOCOLATE CON COCO CHOCOFUN 175G   \n",
       "3            1839882           False                        MUÑEQUITAS DISNEY   \n",
       "4            1733521           False                     DISNEY MINI PRINCESA   \n",
       "\n",
       "             EAN                           Proveedor           Equipo  \\\n",
       "0  4001513004857  GEROLSTEINER BRUNNEN GMBH & CO. KG  FOOD IMPORTADOS   \n",
       "1    52100098609           MCCORMICK DE COLOMBIA SAS  FOOD IMPORTADOS   \n",
       "2  4000415358501              LUDWIG SCHOKOLADE GMBH  FOOD IMPORTADOS   \n",
       "3  2090001416342          JAKKS PACIFIC (HK) LIMITED    NON FOOD HARD   \n",
       "4  2090001311289          JAKKS PACIFIC (HK) LIMITED    NON FOOD HARD   \n",
       "\n",
       "           PM asociado   PM asociado/Correo electrónico  \\\n",
       "0  Magdalena Benavente  magdalena.benavente@cencosud.cl   \n",
       "1  Magdalena Benavente  magdalena.benavente@cencosud.cl   \n",
       "2    Adriana Hernández    adriana.hernandez@cencosud.cl   \n",
       "3   María José Collado    mariajose.collado@cencosud.cl   \n",
       "4   María José Collado    mariajose.collado@cencosud.cl   \n",
       "\n",
       "                          Trazabilidad levantamiento       Etapa  \n",
       "0  FOOD IMPORTADOS/GEROLSTEINER BRUNNEN GMBH & CO...  Proyectado  \n",
       "1          FOOD IMPORTADOS/MCCORMICK DE COLOMBIA SAS  Proyectado  \n",
       "2             FOOD IMPORTADOS/LUDWIG SCHOKOLADE GMBH  Proyectado  \n",
       "3           NON FOOD HARD/JAKKS PACIFIC (HK) LIMITED  Proyectado  \n",
       "4           NON FOOD HARD/JAKKS PACIFIC (HK) LIMITED  Proyectado  "
      ]
     },
     "execution_count": 14,
     "metadata": {},
     "output_type": "execute_result"
    }
   ],
   "source": [
    "test.head()"
   ]
  }
 ],
 "metadata": {
  "kernelspec": {
   "display_name": ".venv",
   "language": "python",
   "name": "python3"
  },
  "language_info": {
   "codemirror_mode": {
    "name": "ipython",
    "version": 3
   },
   "file_extension": ".py",
   "mimetype": "text/x-python",
   "name": "python",
   "nbconvert_exporter": "python",
   "pygments_lexer": "ipython3",
   "version": "3.11.4"
  },
  "orig_nbformat": 4
 },
 "nbformat": 4,
 "nbformat_minor": 2
}
