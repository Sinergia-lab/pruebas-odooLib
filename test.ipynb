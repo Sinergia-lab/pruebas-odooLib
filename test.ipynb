{
 "cells": [
  {
   "cell_type": "code",
   "execution_count": 1,
   "metadata": {},
   "outputs": [],
   "source": [
    "from OddoDownload import OddoDownload\n",
    "import pandas as pd\n",
    "import numpy as np\n",
    "from tqdm import tqdm"
   ]
  },
  {
   "cell_type": "code",
   "execution_count": 2,
   "metadata": {},
   "outputs": [],
   "source": [
    "conn_params = {\n",
    "    'ODOO_USERNAME' : 'acceso@asalvo.cl',\n",
    "    'ODOO_PASSWORD' : '1234',\n",
    "    'ODOO_HOSTNAME' : 'sinergia-lab-cencorep-ambiente-test-9601418.dev.odoo.com',\n",
    "    'ODOO_DATABASE' : 'sinergia-lab-cencorep-ambiente-test-9601418'\n",
    "}\n",
    "odoo = OddoDownload(conn_params)"
   ]
  },
  {
   "cell_type": "code",
   "execution_count": 3,
   "metadata": {},
   "outputs": [
    {
     "name": "stdout",
     "output_type": "stream",
     "text": [
      "Descargando data desde x_productos\n",
      ".\n",
      ".\n",
      "done\n"
     ]
    }
   ],
   "source": [
    "modelo = 'x_productos'\n",
    "filtros = [('x_studio_unidades_de_negocio','=','SMK')]\n",
    "campos = ['x_studio_sku_unidad_de_negocio','x_name','x_studio_stage_id','x_studio_variable_de_marcado','x_studio_candidato_a_analisis_fisico']\n",
    "header = ['SKU unidad negocio','SKU','Etapa','EVA','Analisis fisico']\n",
    "campos_fk = ['x_studio_stage_id']\n",
    "\n",
    "odoo.getDataFromModel(modelo,filtros,campos,header,campos_fk=campos_fk)\n",
    "# odoo.downloadExcel('Maestra','csv')\n",
    "# print('Se ha generado el archivo Maestra.csv')"
   ]
  },
  {
   "cell_type": "code",
   "execution_count": 6,
   "metadata": {},
   "outputs": [
    {
     "name": "stdout",
     "output_type": "stream",
     "text": [
      "Descargando data desde x_ventas\n",
      ".\n",
      "done\n"
     ]
    }
   ],
   "source": [
    "unidad_negocio = 'JUMBO'\n",
    "\n",
    "if unidad_negocio not in ['JUMBO','SISA']:\n",
    "    raise Exception('La unidad de negocio debe ser \"JUMBO\" o \"SISA\"')\n",
    "\n",
    "if unidad_negocio=='JUMBO':\n",
    "    campos_ventas_totales = ['x_studio_total_conveniencia','x_studio_total_jumbo']\n",
    "    header_ventas_totales = ['TOTAL CONVENIENCIA','TOTAL JUMBO']\n",
    "elif unidad_negocio=='SISA':\n",
    "    campos_ventas_totales = ['x_studio_total_sisa']\n",
    "    header_ventas_totales = ['TOTAL SISA']\n",
    "\n",
    "# =========================\n",
    "# DESCARGAR TABLA DE VENTAS\n",
    "# =========================\n",
    "modelo = 'x_ventas'\n",
    "filtros = ['&',('x_studio_unidades_de_negocio','=','SMK'),('x_studio_periodo.x_name','=',2023)]\n",
    "campos = ['x_studio_sku_unidad_de_negocio','x_studio_descripcin_producto','x_studio_elementos_del_producto'] + campos_ventas_totales\n",
    "header = ['Producto','Producto/Descripción','lista_elementos'] + header_ventas_totales \n",
    "campos_fk = ['x_studio_producto']\n",
    "\n",
    "ventas = odoo.getDataFromModel(modelo,filtros,campos,ret_=True,campos_fk=campos_fk, header=header)"
   ]
  },
  {
   "cell_type": "code",
   "execution_count": 7,
   "metadata": {},
   "outputs": [
    {
     "name": "stdout",
     "output_type": "stream",
     "text": [
      "Descargando data desde x_materialidad\n",
      ".\n",
      ".\n",
      ".\n",
      "done\n"
     ]
    },
    {
     "name": "stderr",
     "output_type": "stream",
     "text": [
      "100%|██████████| 22218/22218 [01:16<00:00, 291.60it/s]\n"
     ]
    }
   ],
   "source": [
    "\n",
    "\n",
    "\n",
    "# =============================\n",
    "# CONTAR ELEMENTOS A DESCARGAR\n",
    "# ============================\n",
    "total_elementos = []\n",
    "for i in range(len(ventas)):\n",
    "    elementos = eval(ventas['lista_elementos'].iloc[i])\n",
    "    total_elementos += elementos\n",
    "len(set(total_elementos))\n",
    "\n",
    "# ===========================\n",
    "# DESCARGAR DETALLE DE PARTES\n",
    "# ===========================\n",
    "modelo = 'x_materialidad'\n",
    "filtros = [(\"id\",\"in\",total_elementos)]\n",
    "campos = ['x_name','x_studio_productos_por_envase','x_studio_peso','x_studio_peso_informado','x_studio_mat',\n",
    "        'x_studio_caractertica_del_material_solo_para_plsticos','x_studio_definir_otro_material','x_studio_caracterstica_reciclable',\n",
    "        'x_studio_caracteristica_retornable','x_studio_peligrosidad','x_studio_categora','x_studio_cat_material']\n",
    "\n",
    "header = ['Elementos del producto','Productos por envase','Peso','Peso informado','Material','caracterítica del material (solo para plásticos, cartón y vidrio)',\n",
    "        'Definir otro material','Característica reciclable','Característica retornable','Peligrosidad','Categoría','Categoría material']\n",
    "\n",
    "campos_fk = ['x_studio_mat']\n",
    "\n",
    "materialidad = odoo.getDataFromModel(modelo,filtros,campos,ret_=True,drop_id=False,campos_fk=campos_fk,header=header)\n",
    "materialidad['id'] = pd.to_numeric(materialidad['id'], errors='coerce')\n",
    "\n",
    "# ===========================\n",
    "# CREAR TABLA FINAL\n",
    "# ===========================\n",
    "\n",
    "header_1 = ['Producto','Producto/Descripción']\n",
    "header_2 = ['Elementos del producto','Productos por envase','Peso','Peso informado','Material','caracterítica del material (solo para plásticos, cartón y vidrio)',\n",
    "        'Definir otro material','Característica reciclable','Característica retornable','Peligrosidad','Categoría','Categoría material']\n",
    "header_3 = header_ventas_totales\n",
    "final_header = header_1+header_2+header_3\n",
    "\n",
    "n_campos = len(final_header)\n",
    "declaracion_eye = np.zeros( (len(total_elementos),n_campos),dtype='object' )\n",
    "\n",
    "index_declaracion = 0\n",
    "for i in tqdm(range(len(ventas))):                                      # POR CADA FILA EN VENTAS (tabla x_ventas)\n",
    "    lista_elementos = eval(ventas.iloc[i].lista_elementos)              # OBTENGO LOS ELEMENTOS (o partes xd)              \n",
    "    parte1 = ventas[header_1].iloc[i].to_numpy().reshape(1,-1)  \n",
    "    parte3 = ventas[header_3].iloc[i].to_numpy().reshape(1,-1)\n",
    "\n",
    "    for elemento in lista_elementos:                                    # POR CADA PARTE\n",
    "        detalle_elemento = materialidad[ materialidad['id']==elemento ]\n",
    "        detalle_elemento = detalle_elemento[header_2].to_numpy().reshape(1,-1)\n",
    "        row_declaracion = np.concatenate([parte1,detalle_elemento,parte3],axis=1)\n",
    "\n",
    "        declaracion_eye[index_declaracion] = row_declaracion            # ANADE EL ELEMENTO A LA TABLA FINAL\n",
    "        index_declaracion += 1\n",
    "\n",
    "declaracion_eye = pd.DataFrame(data=declaracion_eye,columns=final_header)\n",
    "declaracion_eye = declaracion_eye[(declaracion_eye['Categoría']=='EYE Domiciliario') | (declaracion_eye['Categoría']=='EYE No domiciliario')]\n",
    "declaracion_eye = declaracion_eye.replace('False','')"
   ]
  },
  {
   "cell_type": "code",
   "execution_count": null,
   "metadata": {},
   "outputs": [],
   "source": [
    "if unidad_negocio=='JUMBO':\n",
    "    declaracion_eye['Peso']=declaracion_eye['Peso'].astype('float')\n",
    "    declaracion_eye['TOTAL JUMBO']=declaracion_eye['TOTAL JUMBO'].astype('float')\n",
    "    declaracion_eye['TOTAL CONVENIENCIA']=declaracion_eye['TOTAL CONVENIENCIA'].astype('float')\n",
    "\n",
    "    declaracion_eye['Peso total (gr)'] = (declaracion_eye['TOTAL JUMBO']+declaracion_eye['TOTAL CONVENIENCIA'])*declaracion_eye['Peso']\n",
    "    declaracion_eye['Peso total (kg)'] = 1e-3*(declaracion_eye['TOTAL JUMBO']+declaracion_eye['TOTAL CONVENIENCIA'])*declaracion_eye['Peso']\n",
    "    declaracion_eye['Peso total (ton)'] = 1e-6*(declaracion_eye['TOTAL JUMBO']+declaracion_eye['TOTAL CONVENIENCIA'])*declaracion_eye['Peso']\n"
   ]
  },
  {
   "cell_type": "code",
   "execution_count": 20,
   "metadata": {},
   "outputs": [
    {
     "ename": "ValueError",
     "evalue": "No engine for filetype: ''",
     "output_type": "error",
     "traceback": [
      "\u001b[0;31m---------------------------------------------------------------------------\u001b[0m",
      "\u001b[0;31mOptionError\u001b[0m                               Traceback (most recent call last)",
      "File \u001b[0;32m~/Documentos/training odoolib/.venv/lib/python3.11/site-packages/pandas/io/excel/_base.py:1153\u001b[0m, in \u001b[0;36mExcelWriter.__new__\u001b[0;34m(cls, path, engine, date_format, datetime_format, mode, storage_options, if_sheet_exists, engine_kwargs)\u001b[0m\n\u001b[1;32m   1152\u001b[0m \u001b[39mtry\u001b[39;00m:\n\u001b[0;32m-> 1153\u001b[0m     engine \u001b[39m=\u001b[39m config\u001b[39m.\u001b[39;49mget_option(\u001b[39mf\u001b[39;49m\u001b[39m\"\u001b[39;49m\u001b[39mio.excel.\u001b[39;49m\u001b[39m{\u001b[39;49;00mext\u001b[39m}\u001b[39;49;00m\u001b[39m.writer\u001b[39;49m\u001b[39m\"\u001b[39;49m, silent\u001b[39m=\u001b[39;49m\u001b[39mTrue\u001b[39;49;00m)\n\u001b[1;32m   1154\u001b[0m     \u001b[39mif\u001b[39;00m engine \u001b[39m==\u001b[39m \u001b[39m\"\u001b[39m\u001b[39mauto\u001b[39m\u001b[39m\"\u001b[39m:\n",
      "File \u001b[0;32m~/Documentos/training odoolib/.venv/lib/python3.11/site-packages/pandas/_config/config.py:272\u001b[0m, in \u001b[0;36mCallableDynamicDoc.__call__\u001b[0;34m(self, *args, **kwds)\u001b[0m\n\u001b[1;32m    271\u001b[0m \u001b[39mdef\u001b[39;00m \u001b[39m__call__\u001b[39m(\u001b[39mself\u001b[39m, \u001b[39m*\u001b[39margs, \u001b[39m*\u001b[39m\u001b[39m*\u001b[39mkwds) \u001b[39m-\u001b[39m\u001b[39m>\u001b[39m T:\n\u001b[0;32m--> 272\u001b[0m     \u001b[39mreturn\u001b[39;00m \u001b[39mself\u001b[39;49m\u001b[39m.\u001b[39;49m\u001b[39m__func__\u001b[39;49m(\u001b[39m*\u001b[39;49margs, \u001b[39m*\u001b[39;49m\u001b[39m*\u001b[39;49mkwds)\n",
      "File \u001b[0;32m~/Documentos/training odoolib/.venv/lib/python3.11/site-packages/pandas/_config/config.py:146\u001b[0m, in \u001b[0;36m_get_option\u001b[0;34m(pat, silent)\u001b[0m\n\u001b[1;32m    145\u001b[0m \u001b[39mdef\u001b[39;00m \u001b[39m_get_option\u001b[39m(pat: \u001b[39mstr\u001b[39m, silent: \u001b[39mbool\u001b[39m \u001b[39m=\u001b[39m \u001b[39mFalse\u001b[39;00m) \u001b[39m-\u001b[39m\u001b[39m>\u001b[39m Any:\n\u001b[0;32m--> 146\u001b[0m     key \u001b[39m=\u001b[39m _get_single_key(pat, silent)\n\u001b[1;32m    148\u001b[0m     \u001b[39m# walk the nested dict\u001b[39;00m\n",
      "File \u001b[0;32m~/Documentos/training odoolib/.venv/lib/python3.11/site-packages/pandas/_config/config.py:132\u001b[0m, in \u001b[0;36m_get_single_key\u001b[0;34m(pat, silent)\u001b[0m\n\u001b[1;32m    131\u001b[0m         _warn_if_deprecated(pat)\n\u001b[0;32m--> 132\u001b[0m     \u001b[39mraise\u001b[39;00m OptionError(\u001b[39mf\u001b[39m\u001b[39m\"\u001b[39m\u001b[39mNo such keys(s): \u001b[39m\u001b[39m{\u001b[39;00m\u001b[39mrepr\u001b[39m(pat)\u001b[39m}\u001b[39;00m\u001b[39m\"\u001b[39m)\n\u001b[1;32m    133\u001b[0m \u001b[39mif\u001b[39;00m \u001b[39mlen\u001b[39m(keys) \u001b[39m>\u001b[39m \u001b[39m1\u001b[39m:\n",
      "\u001b[0;31mOptionError\u001b[0m: No such keys(s): 'io.excel..writer'",
      "\nThe above exception was the direct cause of the following exception:\n",
      "\u001b[0;31mValueError\u001b[0m                                Traceback (most recent call last)",
      "\u001b[1;32m/home/sinergia-terminal-6/Documentos/training odoolib/test.ipynb Cell 7\u001b[0m line \u001b[0;36m6\n\u001b[1;32m      <a href='vscode-notebook-cell:/home/sinergia-terminal-6/Documentos/training%20odoolib/test.ipynb#X12sZmlsZQ%3D%3D?line=2'>3</a>\u001b[0m caso \u001b[39m=\u001b[39m test[test[\u001b[39m'\u001b[39m\u001b[39mProducto\u001b[39m\u001b[39m'\u001b[39m]\u001b[39m==\u001b[39m\u001b[39m'\u001b[39m\u001b[39m68219\u001b[39m\u001b[39m'\u001b[39m]\n\u001b[1;32m      <a href='vscode-notebook-cell:/home/sinergia-terminal-6/Documentos/training%20odoolib/test.ipynb#X12sZmlsZQ%3D%3D?line=3'>4</a>\u001b[0m caso[\u001b[39m'\u001b[39m\u001b[39mPeso\u001b[39m\u001b[39m'\u001b[39m]\n\u001b[0;32m----> <a href='vscode-notebook-cell:/home/sinergia-terminal-6/Documentos/training%20odoolib/test.ipynb#X12sZmlsZQ%3D%3D?line=5'>6</a>\u001b[0m caso\u001b[39m.\u001b[39;49mto_excel(\u001b[39m'\u001b[39;49m\u001b[39mcaso\u001b[39;49m\u001b[39m'\u001b[39;49m)\n",
      "File \u001b[0;32m~/Documentos/training odoolib/.venv/lib/python3.11/site-packages/pandas/core/generic.py:2345\u001b[0m, in \u001b[0;36mNDFrame.to_excel\u001b[0;34m(self, excel_writer, sheet_name, na_rep, float_format, columns, header, index, index_label, startrow, startcol, engine, merge_cells, inf_rep, freeze_panes, storage_options, engine_kwargs)\u001b[0m\n\u001b[1;32m   2332\u001b[0m \u001b[39mfrom\u001b[39;00m \u001b[39mpandas\u001b[39;00m\u001b[39m.\u001b[39;00m\u001b[39mio\u001b[39;00m\u001b[39m.\u001b[39;00m\u001b[39mformats\u001b[39;00m\u001b[39m.\u001b[39;00m\u001b[39mexcel\u001b[39;00m \u001b[39mimport\u001b[39;00m ExcelFormatter\n\u001b[1;32m   2334\u001b[0m formatter \u001b[39m=\u001b[39m ExcelFormatter(\n\u001b[1;32m   2335\u001b[0m     df,\n\u001b[1;32m   2336\u001b[0m     na_rep\u001b[39m=\u001b[39mna_rep,\n\u001b[0;32m   (...)\u001b[0m\n\u001b[1;32m   2343\u001b[0m     inf_rep\u001b[39m=\u001b[39minf_rep,\n\u001b[1;32m   2344\u001b[0m )\n\u001b[0;32m-> 2345\u001b[0m formatter\u001b[39m.\u001b[39;49mwrite(\n\u001b[1;32m   2346\u001b[0m     excel_writer,\n\u001b[1;32m   2347\u001b[0m     sheet_name\u001b[39m=\u001b[39;49msheet_name,\n\u001b[1;32m   2348\u001b[0m     startrow\u001b[39m=\u001b[39;49mstartrow,\n\u001b[1;32m   2349\u001b[0m     startcol\u001b[39m=\u001b[39;49mstartcol,\n\u001b[1;32m   2350\u001b[0m     freeze_panes\u001b[39m=\u001b[39;49mfreeze_panes,\n\u001b[1;32m   2351\u001b[0m     engine\u001b[39m=\u001b[39;49mengine,\n\u001b[1;32m   2352\u001b[0m     storage_options\u001b[39m=\u001b[39;49mstorage_options,\n\u001b[1;32m   2353\u001b[0m     engine_kwargs\u001b[39m=\u001b[39;49mengine_kwargs,\n\u001b[1;32m   2354\u001b[0m )\n",
      "File \u001b[0;32m~/Documentos/training odoolib/.venv/lib/python3.11/site-packages/pandas/io/formats/excel.py:946\u001b[0m, in \u001b[0;36mExcelFormatter.write\u001b[0;34m(self, writer, sheet_name, startrow, startcol, freeze_panes, engine, storage_options, engine_kwargs)\u001b[0m\n\u001b[1;32m    942\u001b[0m     need_save \u001b[39m=\u001b[39m \u001b[39mFalse\u001b[39;00m\n\u001b[1;32m    943\u001b[0m \u001b[39melse\u001b[39;00m:\n\u001b[1;32m    944\u001b[0m     \u001b[39m# error: Cannot instantiate abstract class 'ExcelWriter' with abstract\u001b[39;00m\n\u001b[1;32m    945\u001b[0m     \u001b[39m# attributes 'engine', 'save', 'supported_extensions' and 'write_cells'\u001b[39;00m\n\u001b[0;32m--> 946\u001b[0m     writer \u001b[39m=\u001b[39m ExcelWriter(  \u001b[39m# type: ignore[abstract]\u001b[39;49;00m\n\u001b[1;32m    947\u001b[0m         writer,\n\u001b[1;32m    948\u001b[0m         engine\u001b[39m=\u001b[39;49mengine,\n\u001b[1;32m    949\u001b[0m         storage_options\u001b[39m=\u001b[39;49mstorage_options,\n\u001b[1;32m    950\u001b[0m         engine_kwargs\u001b[39m=\u001b[39;49mengine_kwargs,\n\u001b[1;32m    951\u001b[0m     )\n\u001b[1;32m    952\u001b[0m     need_save \u001b[39m=\u001b[39m \u001b[39mTrue\u001b[39;00m\n\u001b[1;32m    954\u001b[0m \u001b[39mtry\u001b[39;00m:\n",
      "File \u001b[0;32m~/Documentos/training odoolib/.venv/lib/python3.11/site-packages/pandas/io/excel/_base.py:1157\u001b[0m, in \u001b[0;36mExcelWriter.__new__\u001b[0;34m(cls, path, engine, date_format, datetime_format, mode, storage_options, if_sheet_exists, engine_kwargs)\u001b[0m\n\u001b[1;32m   1155\u001b[0m             engine \u001b[39m=\u001b[39m get_default_engine(ext, mode\u001b[39m=\u001b[39m\u001b[39m\"\u001b[39m\u001b[39mwriter\u001b[39m\u001b[39m\"\u001b[39m)\n\u001b[1;32m   1156\u001b[0m     \u001b[39mexcept\u001b[39;00m \u001b[39mKeyError\u001b[39;00m \u001b[39mas\u001b[39;00m err:\n\u001b[0;32m-> 1157\u001b[0m         \u001b[39mraise\u001b[39;00m \u001b[39mValueError\u001b[39;00m(\u001b[39mf\u001b[39m\u001b[39m\"\u001b[39m\u001b[39mNo engine for filetype: \u001b[39m\u001b[39m'\u001b[39m\u001b[39m{\u001b[39;00mext\u001b[39m}\u001b[39;00m\u001b[39m'\u001b[39m\u001b[39m\"\u001b[39m) \u001b[39mfrom\u001b[39;00m \u001b[39merr\u001b[39;00m\n\u001b[1;32m   1159\u001b[0m \u001b[39m# for mypy\u001b[39;00m\n\u001b[1;32m   1160\u001b[0m \u001b[39massert\u001b[39;00m engine \u001b[39mis\u001b[39;00m \u001b[39mnot\u001b[39;00m \u001b[39mNone\u001b[39;00m\n",
      "\u001b[0;31mValueError\u001b[0m: No engine for filetype: ''"
     ]
    }
   ],
   "source": [
    "test  = declaracion_eye.copy()\n",
    "test['Peso'] = test['Peso'].astype('float')\n",
    "caso = test[test['Producto']=='68219']\n",
    "caso['Peso']\n",
    "\n",
    "caso.to_excel('caso.xlsx')"
   ]
  }
 ],
 "metadata": {
  "kernelspec": {
   "display_name": ".venv",
   "language": "python",
   "name": "python3"
  },
  "language_info": {
   "codemirror_mode": {
    "name": "ipython",
    "version": 3
   },
   "file_extension": ".py",
   "mimetype": "text/x-python",
   "name": "python",
   "nbconvert_exporter": "python",
   "pygments_lexer": "ipython3",
   "version": "3.11.4"
  },
  "orig_nbformat": 4
 },
 "nbformat": 4,
 "nbformat_minor": 2
}
