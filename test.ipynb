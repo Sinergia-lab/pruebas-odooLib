{
 "cells": [
  {
   "cell_type": "code",
   "execution_count": 2,
   "metadata": {},
   "outputs": [],
   "source": [
    "from OddoDownload import OdooDownloadCenco,OdooDownloadCorona,OdooDownloadTottus\n",
    "import pandas as pd\n",
    "import numpy as np\n",
    "from tqdm import tqdm"
   ]
  },
  {
   "cell_type": "code",
   "execution_count": 3,
   "metadata": {},
   "outputs": [],
   "source": [
    "conn_params_cenco = {\n",
    "    'ODOO_USERNAME' : 'acceso@asalvo.cl',\n",
    "    'ODOO_PASSWORD' : '1234',\n",
    "    'ODOO_HOSTNAME' : 'sinergia-lab-cencorep-ambiente-test-9601418.dev.odoo.com',\n",
    "    'ODOO_DATABASE' : 'sinergia-lab-cencorep-ambiente-test-9601418'\n",
    "}\n",
    "\n",
    "conn_params_corona = {\n",
    "    'ODOO_USERNAME' : 'andres.romo@sinergiaindustrias.cl',\n",
    "    'ODOO_PASSWORD' : 'clavefalsa',\n",
    "    'ODOO_HOSTNAME' : 'repcorona-test.odoo.com',\n",
    "    'ODOO_DATABASE' : 'repcorona-test'\n",
    "}\n",
    "\n",
    "conn_params_tottus = {\n",
    "    'ODOO_USERNAME' : 'andres.romo@sinergiaindustrias.cl',\n",
    "    'ODOO_PASSWORD' : 'clavefalsa',\n",
    "    'ODOO_HOSTNAME' : 'rep-tottus-test.odoo.com',\n",
    "    'ODOO_DATABASE' : 'rep-tottus-test'\n",
    "}\n",
    "\n",
    "odoo_cenco = OdooDownloadCenco(conn_params_cenco)\n",
    "odoo_corona = OdooDownloadCorona(conn_params_corona)\n",
    "odoo_tottus = OdooDownloadTottus(conn_params_corona)"
   ]
  },
  {
   "cell_type": "code",
   "execution_count": 142,
   "metadata": {},
   "outputs": [
    {
     "name": "stderr",
     "output_type": "stream",
     "text": [
      "100%|██████████| 1/1 [00:00<00:00, 209.13it/s]\n"
     ]
    }
   ],
   "source": [
    "\n"
   ]
  }
 ],
 "metadata": {
  "kernelspec": {
   "display_name": ".venv",
   "language": "python",
   "name": "python3"
  },
  "language_info": {
   "codemirror_mode": {
    "name": "ipython",
    "version": 3
   },
   "file_extension": ".py",
   "mimetype": "text/x-python",
   "name": "python",
   "nbconvert_exporter": "python",
   "pygments_lexer": "ipython3",
   "version": "3.11.4"
  },
  "orig_nbformat": 4
 },
 "nbformat": 4,
 "nbformat_minor": 2
}
