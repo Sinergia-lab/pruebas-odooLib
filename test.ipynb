{
 "cells": [
  {
   "cell_type": "code",
   "execution_count": 1,
   "metadata": {},
   "outputs": [],
   "source": [
    "from OddoDownload import OddoDownload\n",
    "import pandas as pd\n",
    "import numpy as np"
   ]
  },
  {
   "cell_type": "code",
   "execution_count": 5,
   "metadata": {},
   "outputs": [
    {
     "name": "stdout",
     "output_type": "stream",
     "text": [
      "Descargando data\n",
      ".\n",
      ".\n",
      ".\n",
      "done\n",
      "Generando archivo\n"
     ]
    }
   ],
   "source": [
    "conn_params = {\n",
    "    'ODOO_USERNAME' : 'acceso@asalvo.cl',\n",
    "    'ODOO_PASSWORD' : '1234',\n",
    "    'ODOO_HOSTNAME' : 'sinergia-lab-cencorep-ambiente-test-9601418.dev.odoo.com',\n",
    "    'ODOO_DATABASE' : 'sinergia-lab-cencorep-ambiente-test-9601418'\n",
    "}\n",
    "odoo = OddoDownload(conn_params)\n",
    "\n",
    "modelo = 'x_materialidad'\n",
    "filtros = ['|',('x_studio_mat','=','CARTÓN'),('x_name','=','CAJA')]\n",
    "campos = ['x_studio_mat','x_name']\n",
    "header = ['campo1','campo2']\n",
    "\n",
    "# for i in tqdm(range(10)):\n",
    "    # odoo.getDataFromModel(modelo,filtros,campos)\n",
    "\n",
    "odoo.getDataFromModel(modelo,filtros,campos)\n",
    "odoo.downloadExcel('excel test')\n"
   ]
  },
  {
   "cell_type": "code",
   "execution_count": 6,
   "metadata": {},
   "outputs": [
    {
     "data": {
      "text/plain": [
       "138531"
      ]
     },
     "execution_count": 6,
     "metadata": {},
     "output_type": "execute_result"
    }
   ],
   "source": [
    "len(odoo.resultadoBusqueda)"
   ]
  },
  {
   "cell_type": "code",
   "execution_count": 4,
   "metadata": {},
   "outputs": [
    {
     "data": {
      "text/html": [
       "<div>\n",
       "<style scoped>\n",
       "    .dataframe tbody tr th:only-of-type {\n",
       "        vertical-align: middle;\n",
       "    }\n",
       "\n",
       "    .dataframe tbody tr th {\n",
       "        vertical-align: top;\n",
       "    }\n",
       "\n",
       "    .dataframe thead th {\n",
       "        text-align: right;\n",
       "    }\n",
       "</style>\n",
       "<table border=\"1\" class=\"dataframe\">\n",
       "  <thead>\n",
       "    <tr style=\"text-align: right;\">\n",
       "      <th></th>\n",
       "      <th>id</th>\n",
       "      <th>x_studio_mat</th>\n",
       "      <th>x_name</th>\n",
       "    </tr>\n",
       "  </thead>\n",
       "  <tbody>\n",
       "    <tr>\n",
       "      <th>0</th>\n",
       "      <td>61149</td>\n",
       "      <td>CARTÓN</td>\n",
       "      <td>CAJA</td>\n",
       "    </tr>\n",
       "    <tr>\n",
       "      <th>1</th>\n",
       "      <td>61156</td>\n",
       "      <td>CARTÓN</td>\n",
       "      <td>CAJA</td>\n",
       "    </tr>\n",
       "    <tr>\n",
       "      <th>2</th>\n",
       "      <td>61163</td>\n",
       "      <td>CARTÓN</td>\n",
       "      <td>CAJA</td>\n",
       "    </tr>\n",
       "    <tr>\n",
       "      <th>3</th>\n",
       "      <td>61170</td>\n",
       "      <td>CARTÓN</td>\n",
       "      <td>CAJA</td>\n",
       "    </tr>\n",
       "    <tr>\n",
       "      <th>4</th>\n",
       "      <td>61177</td>\n",
       "      <td>CARTÓN</td>\n",
       "      <td>CAJA</td>\n",
       "    </tr>\n",
       "    <tr>\n",
       "      <th>...</th>\n",
       "      <td>...</td>\n",
       "      <td>...</td>\n",
       "      <td>...</td>\n",
       "    </tr>\n",
       "    <tr>\n",
       "      <th>5291</th>\n",
       "      <td>1441215</td>\n",
       "      <td>CARTÓN</td>\n",
       "      <td>CAJA</td>\n",
       "    </tr>\n",
       "    <tr>\n",
       "      <th>5292</th>\n",
       "      <td>1441219</td>\n",
       "      <td>CARTÓN</td>\n",
       "      <td>CAJA</td>\n",
       "    </tr>\n",
       "    <tr>\n",
       "      <th>5293</th>\n",
       "      <td>1441223</td>\n",
       "      <td>CARTÓN</td>\n",
       "      <td>CAJA</td>\n",
       "    </tr>\n",
       "    <tr>\n",
       "      <th>5294</th>\n",
       "      <td>1441227</td>\n",
       "      <td>CARTÓN</td>\n",
       "      <td>CAJA</td>\n",
       "    </tr>\n",
       "    <tr>\n",
       "      <th>5295</th>\n",
       "      <td>1441231</td>\n",
       "      <td>CARTÓN</td>\n",
       "      <td>CAJA</td>\n",
       "    </tr>\n",
       "  </tbody>\n",
       "</table>\n",
       "<p>5296 rows × 3 columns</p>\n",
       "</div>"
      ],
      "text/plain": [
       "           id x_studio_mat x_name\n",
       "0       61149       CARTÓN   CAJA\n",
       "1       61156       CARTÓN   CAJA\n",
       "2       61163       CARTÓN   CAJA\n",
       "3       61170       CARTÓN   CAJA\n",
       "4       61177       CARTÓN   CAJA\n",
       "...       ...          ...    ...\n",
       "5291  1441215       CARTÓN   CAJA\n",
       "5292  1441219       CARTÓN   CAJA\n",
       "5293  1441223       CARTÓN   CAJA\n",
       "5294  1441227       CARTÓN   CAJA\n",
       "5295  1441231       CARTÓN   CAJA\n",
       "\n",
       "[5296 rows x 3 columns]"
      ]
     },
     "execution_count": 4,
     "metadata": {},
     "output_type": "execute_result"
    }
   ],
   "source": [
    "odoo.resultadoBusqueda"
   ]
  }
 ],
 "metadata": {
  "kernelspec": {
   "display_name": ".venv",
   "language": "python",
   "name": "python3"
  },
  "language_info": {
   "codemirror_mode": {
    "name": "ipython",
    "version": 3
   },
   "file_extension": ".py",
   "mimetype": "text/x-python",
   "name": "python",
   "nbconvert_exporter": "python",
   "pygments_lexer": "ipython3",
   "version": "3.11.4"
  },
  "orig_nbformat": 4
 },
 "nbformat": 4,
 "nbformat_minor": 2
}
