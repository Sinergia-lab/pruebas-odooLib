{
 "cells": [
  {
   "cell_type": "code",
   "execution_count": 1,
   "metadata": {},
   "outputs": [
    {
     "name": "stderr",
     "output_type": "stream",
     "text": [
      "/home/sinergia-terminal-6/Documentos/training odoolib/.venv/lib/python3.11/site-packages/sklearn/datasets/_openml.py:1002: FutureWarning: The default value of `parser` will change from `'liac-arff'` to `'auto'` in 1.4. You can set `parser='auto'` to silence this warning. Therefore, an `ImportError` will be raised from 1.4 if the dataset is dense and pandas is not installed. Note that the pandas parser may return different data types. See the Notes Section in fetch_openml's API doc for details.\n",
      "  warn(\n"
     ]
    }
   ],
   "source": [
    "import pandas as pd\n",
    "import numpy as np\n",
    "from sklearn.datasets import fetch_openml\n",
    "\n",
    "X,y = fetch_openml(\"autos\", version=1, as_frame=True, return_X_y=True)\n",
    "data = X\n",
    "data['target'] = y"
   ]
  },
  {
   "cell_type": "code",
   "execution_count": 2,
   "metadata": {},
   "outputs": [],
   "source": [
    "import pandas as pd\n",
    "import numpy as np\n",
    "\n",
    "def entregable_declaracion_eye(cliente):\n",
    "    if cliente not in ['JUMBO','SISA','MDH','TXD','CORONA','TOTTUS']:\n",
    "        raise Exception('Cliente debe ser JUMBO,SISA,MDH, TXD, CORONA o TOTTUS')\n",
    "    \n",
    "    if cliente in ['JUMBO','SISA','MDH','TXD']:\n",
    "        file_input = 'Declaracion_eye_SMK.xlsx'\n",
    "        file_output = f'Entregable declaracion eye SMK_{cliente}.xlsx'\n",
    "        index = ['Categoría material','caracterítica del material (solo para plásticos, cartón y vidrio)','Material']\n",
    "        col_categoria = 'Categoría'\n",
    "\n",
    "        \n",
    "    if cliente == 'CORONA':\n",
    "        file_input = 'Declaracion_eye_corona.xlsx'\n",
    "        file_output = 'Entregable declaracion eye corona.xlsx'\n",
    "        index = ['Sub-categoría material','Característica del material','Material']\n",
    "        col_categoria = 'Categoría'\n",
    "\n",
    "    \n",
    "    if cliente=='TOTTUS':\n",
    "        file_input = 'Declaracion_eye_tottus.xlsx'\n",
    "        file_output = 'Entregable declaracion eye tottus.xlsx'\n",
    "        index = ['Sub-categoría material','Característica del material','Material']\n",
    "        col_categoria = 'Categoría elemento'\n",
    "\n",
    "    # =============\n",
    "    # READ FILE\n",
    "    # =============\n",
    "    eye_partes = pd.read_excel(file_input)\n",
    "    eye_partes_nodoc = eye_partes[eye_partes[col_categoria]=='EYE No domiciliario']\n",
    "    eye_partes_sidoc = eye_partes[eye_partes[col_categoria]=='EYE Domiciliario']\n",
    "\n",
    "    with pd.ExcelWriter(file_output) as writer:\n",
    "\n",
    "    # =============\n",
    "    # DOMICILIARIO\n",
    "    # =============\n",
    "\n",
    "        pvt_sidoc = pd.pivot_table(eye_partes_sidoc,'Peso total (ton)',\n",
    "                            index=index,\n",
    "                            columns=['Peligrosidad'],aggfunc='sum',fill_value=0)\n",
    "\n",
    "        pvt_sidoc = np.round(pvt_sidoc,4)\n",
    "        pvt_sidoc.to_excel(writer,sheet_name='Declaracion lb',startrow=0,startcol=0)\n",
    "\n",
    "    # =============\n",
    "    # NO DOMICILIARIO\n",
    "    # =============\n",
    "\n",
    "        pvt_nodoc = pd.pivot_table(eye_partes_nodoc,'Peso total (ton)',\n",
    "                            index=index,\n",
    "                            columns=['Peligrosidad'],aggfunc='sum',fill_value=0)\n",
    "        pvt_nodoc = np.round(pvt_sidoc,4)\n",
    "        pvt_nodoc.to_excel(writer,sheet_name='Declaracion lb',startrow=0,startcol=7)\n",
    "\n",
    "\n"
   ]
  },
  {
   "cell_type": "code",
   "execution_count": 5,
   "metadata": {},
   "outputs": [
    {
     "name": "stderr",
     "output_type": "stream",
     "text": [
      "Exception ignored in: <function ZipFile.__del__ at 0x7f60a0c85b20>\n",
      "Traceback (most recent call last):\n",
      "  File \"/usr/lib/python3.11/zipfile.py\", line 1874, in __del__\n",
      "    self.close()\n",
      "  File \"/usr/lib/python3.11/zipfile.py\", line 1891, in close\n",
      "    self.fp.seek(self.start_dir)\n",
      "ValueError: seek of closed file\n"
     ]
    }
   ],
   "source": [
    "file_input = 'Declaracion_eye_SMK.xlsx'\n",
    "file_output = f'Entregable declaracion eye SMK_jumbo.xlsx'\n",
    "index = ['Categoría material','caracterítica del material (solo para plásticos, cartón y vidrio)','Material']\n",
    "col_categoria = 'Categoría'\n",
    "\n",
    "eye_partes = pd.read_excel(file_input)\n",
    "eye_partes_nodoc = eye_partes[eye_partes[col_categoria]=='EYE No domiciliario']\n",
    "eye_partes_sidoc = eye_partes[eye_partes[col_categoria]=='EYE Domiciliario']"
   ]
  },
  {
   "cell_type": "code",
   "execution_count": 8,
   "metadata": {},
   "outputs": [
    {
     "ename": "KeyError",
     "evalue": "'Peso total (ton)'",
     "output_type": "error",
     "traceback": [
      "\u001b[0;31m---------------------------------------------------------------------------\u001b[0m",
      "\u001b[0;31mKeyError\u001b[0m                                  Traceback (most recent call last)",
      "\u001b[1;32m/home/sinergia-terminal-6/Documentos/training odoolib/learning_pivottable.ipynb Cell 4\u001b[0m line \u001b[0;36m1\n\u001b[0;32m----> <a href='vscode-notebook-cell:/home/sinergia-terminal-6/Documentos/training%20odoolib/learning_pivottable.ipynb#W3sZmlsZQ%3D%3D?line=0'>1</a>\u001b[0m pvt_sidoc \u001b[39m=\u001b[39m pd\u001b[39m.\u001b[39;49mpivot_table(eye_partes_sidoc,\u001b[39m'\u001b[39;49m\u001b[39mPeso total (ton)\u001b[39;49m\u001b[39m'\u001b[39;49m,\n\u001b[1;32m      <a href='vscode-notebook-cell:/home/sinergia-terminal-6/Documentos/training%20odoolib/learning_pivottable.ipynb#W3sZmlsZQ%3D%3D?line=1'>2</a>\u001b[0m                             index\u001b[39m=\u001b[39;49mindex,\n\u001b[1;32m      <a href='vscode-notebook-cell:/home/sinergia-terminal-6/Documentos/training%20odoolib/learning_pivottable.ipynb#W3sZmlsZQ%3D%3D?line=2'>3</a>\u001b[0m                             columns\u001b[39m=\u001b[39;49m[\u001b[39m'\u001b[39;49m\u001b[39mPeligrosidad\u001b[39;49m\u001b[39m'\u001b[39;49m],aggfunc\u001b[39m=\u001b[39;49m\u001b[39m'\u001b[39;49m\u001b[39msum\u001b[39;49m\u001b[39m'\u001b[39;49m,fill_value\u001b[39m=\u001b[39;49m\u001b[39m0\u001b[39;49m)\n\u001b[1;32m      <a href='vscode-notebook-cell:/home/sinergia-terminal-6/Documentos/training%20odoolib/learning_pivottable.ipynb#W3sZmlsZQ%3D%3D?line=4'>5</a>\u001b[0m pvt_sidoc \u001b[39m=\u001b[39m np\u001b[39m.\u001b[39mround(pvt_sidoc,\u001b[39m4\u001b[39m)\n\u001b[1;32m      <a href='vscode-notebook-cell:/home/sinergia-terminal-6/Documentos/training%20odoolib/learning_pivottable.ipynb#W3sZmlsZQ%3D%3D?line=5'>6</a>\u001b[0m pvt_sidoc\n",
      "File \u001b[0;32m~/Documentos/training odoolib/.venv/lib/python3.11/site-packages/pandas/core/reshape/pivot.py:99\u001b[0m, in \u001b[0;36mpivot_table\u001b[0;34m(data, values, index, columns, aggfunc, fill_value, margins, dropna, margins_name, observed, sort)\u001b[0m\n\u001b[1;32m     96\u001b[0m     table \u001b[39m=\u001b[39m concat(pieces, keys\u001b[39m=\u001b[39mkeys, axis\u001b[39m=\u001b[39m\u001b[39m1\u001b[39m)\n\u001b[1;32m     97\u001b[0m     \u001b[39mreturn\u001b[39;00m table\u001b[39m.\u001b[39m__finalize__(data, method\u001b[39m=\u001b[39m\u001b[39m\"\u001b[39m\u001b[39mpivot_table\u001b[39m\u001b[39m\"\u001b[39m)\n\u001b[0;32m---> 99\u001b[0m table \u001b[39m=\u001b[39m __internal_pivot_table(\n\u001b[1;32m    100\u001b[0m     data,\n\u001b[1;32m    101\u001b[0m     values,\n\u001b[1;32m    102\u001b[0m     index,\n\u001b[1;32m    103\u001b[0m     columns,\n\u001b[1;32m    104\u001b[0m     aggfunc,\n\u001b[1;32m    105\u001b[0m     fill_value,\n\u001b[1;32m    106\u001b[0m     margins,\n\u001b[1;32m    107\u001b[0m     dropna,\n\u001b[1;32m    108\u001b[0m     margins_name,\n\u001b[1;32m    109\u001b[0m     observed,\n\u001b[1;32m    110\u001b[0m     sort,\n\u001b[1;32m    111\u001b[0m )\n\u001b[1;32m    112\u001b[0m \u001b[39mreturn\u001b[39;00m table\u001b[39m.\u001b[39m__finalize__(data, method\u001b[39m=\u001b[39m\u001b[39m\"\u001b[39m\u001b[39mpivot_table\u001b[39m\u001b[39m\"\u001b[39m)\n",
      "File \u001b[0;32m~/Documentos/training odoolib/.venv/lib/python3.11/site-packages/pandas/core/reshape/pivot.py:145\u001b[0m, in \u001b[0;36m__internal_pivot_table\u001b[0;34m(data, values, index, columns, aggfunc, fill_value, margins, dropna, margins_name, observed, sort)\u001b[0m\n\u001b[1;32m    143\u001b[0m \u001b[39mfor\u001b[39;00m i \u001b[39min\u001b[39;00m values:\n\u001b[1;32m    144\u001b[0m     \u001b[39mif\u001b[39;00m i \u001b[39mnot\u001b[39;00m \u001b[39min\u001b[39;00m data:\n\u001b[0;32m--> 145\u001b[0m         \u001b[39mraise\u001b[39;00m \u001b[39mKeyError\u001b[39;00m(i)\n\u001b[1;32m    147\u001b[0m to_filter \u001b[39m=\u001b[39m []\n\u001b[1;32m    148\u001b[0m \u001b[39mfor\u001b[39;00m x \u001b[39min\u001b[39;00m keys \u001b[39m+\u001b[39m values:\n",
      "\u001b[0;31mKeyError\u001b[0m: 'Peso total (ton)'"
     ]
    }
   ],
   "source": [
    "pvt_sidoc = pd.pivot_table(eye_partes_sidoc,'Peso total (ton)',\n",
    "                            index=index,\n",
    "                            columns=['Peligrosidad'],aggfunc='sum',fill_value=0)\n",
    "\n",
    "pvt_sidoc = np.round(pvt_sidoc,4)\n",
    "pvt_sidoc"
   ]
  }
 ],
 "metadata": {
  "kernelspec": {
   "display_name": ".venv",
   "language": "python",
   "name": "python3"
  },
  "language_info": {
   "codemirror_mode": {
    "name": "ipython",
    "version": 3
   },
   "file_extension": ".py",
   "mimetype": "text/x-python",
   "name": "python",
   "nbconvert_exporter": "python",
   "pygments_lexer": "ipython3",
   "version": "3.11.4"
  },
  "orig_nbformat": 4
 },
 "nbformat": 4,
 "nbformat_minor": 2
}
